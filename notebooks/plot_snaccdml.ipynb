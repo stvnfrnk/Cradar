{
 "cells": [
  {
   "cell_type": "code",
   "execution_count": null,
   "metadata": {},
   "outputs": [],
   "source": [
    "from Cradar import Cradar\n",
    "\n",
    "dir_radar = \"D:/work/res_data/CSARP/CSARP_2024_Antarctica_Polar6_rds/CSARP_standard/20231129_01/\"\n",
    "file      = \"Data_20231129_01_008.mat\"\n",
    "\n",
    "\n",
    "# load data\n",
    "crd = Cradar().load_cresis_mat(dir_radar + file, dB=False)\n",
    "\n",
    "# get idx for surface reflection\n",
    "crd.get_layer_idx()\n",
    "\n",
    "# convert to dB\n",
    "crd.to_dB()\n",
    "\n",
    "# pull2surface\n",
    "crdS = Cradar.twt2surface(crd)\n",
    "\n",
    "# clip in range between 0 and 1000 ns\n",
    "crdS.clip_range(0, 1000, mode=\"twt\")\n",
    "\n",
    "# plot\n",
    "crdS.plot_echogram( figsize_x=20,\n",
    "                    figsize_y=12,\n",
    "                    range_mode='twt',\n",
    "                    every_km_dist=10,\n",
    "                    every_m_elev=1000,\n",
    "                    every_twt=['ns', 100],\n",
    "                    plot_layers=False,\n",
    "                    show_legend=False,\n",
    "                    xlabels_as_int=True,\n",
    "                    ylabels_as_int=True,\n",
    "                    fontsize=12,\n",
    "                    show_figure=True, \n",
    "                    show_cbar=False,\n",
    "                    cmap='bone_r',\n",
    "                    vmin='',\n",
    "                    vmax='',\n",
    "                    vline=1500,\n",
    "                    save_svg=False, \n",
    "                    save_raster=[False, \"jpg\"], \n",
    "                    suffix='',\n",
    "                    out_folder=\"\",\n",
    "                    dpi=300)"
   ]
  },
  {
   "cell_type": "code",
   "execution_count": null,
   "metadata": {},
   "outputs": [],
   "source": [
    "import numpy as np\n",
    "\n",
    "crdS.Data = np.diff(crdS.Data.T).T"
   ]
  },
  {
   "cell_type": "code",
   "execution_count": null,
   "metadata": {},
   "outputs": [],
   "source": [
    "crdS.plot_echogram(  figsize_x=20,\n",
    "                    figsize_y=12,\n",
    "                    range_mode='twt',\n",
    "                    every_km_dist=10,\n",
    "                    every_m_elev=1000,\n",
    "                    every_twt=['ns', 100],\n",
    "                    plot_layers=False,\n",
    "                    show_legend=False,\n",
    "                    xlabels_as_int=True,\n",
    "                    ylabels_as_int=True,\n",
    "                    fontsize=12,\n",
    "                    show_figure=True, \n",
    "                    show_cbar=False,\n",
    "                    cmap='bone_r',\n",
    "                    vmin='',\n",
    "                    vmax='',\n",
    "                    save_svg=False, \n",
    "                    save_raster=[False, \"jpg\"], \n",
    "                    suffix='',\n",
    "                    out_folder=\"\",\n",
    "                    dpi=300)"
   ]
  },
  {
   "cell_type": "code",
   "execution_count": null,
   "metadata": {},
   "outputs": [],
   "source": []
  }
 ],
 "metadata": {
  "kernelspec": {
   "display_name": "geo",
   "language": "python",
   "name": "python3"
  },
  "language_info": {
   "codemirror_mode": {
    "name": "ipython",
    "version": 3
   },
   "file_extension": ".py",
   "mimetype": "text/x-python",
   "name": "python",
   "nbconvert_exporter": "python",
   "pygments_lexer": "ipython3",
   "version": "3.10.4"
  }
 },
 "nbformat": 4,
 "nbformat_minor": 2
}
