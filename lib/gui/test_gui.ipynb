{
 "cells": [
  {
   "cell_type": "markdown",
   "metadata": {},
   "source": [
    "### TEST GUI"
   ]
  },
  {
   "cell_type": "code",
   "execution_count": 1,
   "metadata": {},
   "outputs": [
    {
     "name": "stdout",
     "output_type": "stream",
     "text": [
      "\n",
      "==> Loaded C:\\Users\\Steven\\Seafile\\Orca\\AWI_Radar\\Radar_data\\UWB\\2019_Antarctica_Polar6_rds_standard\\20181226_01\\Data_20181226_01_011_standard.nc\n",
      "... getting layer idx for Surface\n",
      "... getting layer idx for Base\n"
     ]
    },
    {
     "ename": "SystemExit",
     "evalue": "0",
     "output_type": "error",
     "traceback": [
      "An exception has occurred, use %tb to see the full traceback.\n",
      "\u001b[1;31mSystemExit\u001b[0m\u001b[1;31m:\u001b[0m 0\n"
     ]
    },
    {
     "name": "stderr",
     "output_type": "stream",
     "text": [
      "c:\\Users\\Steven\\miniconda3\\envs\\geo\\lib\\site-packages\\IPython\\core\\interactiveshell.py:3560: UserWarning: To exit: use 'exit', 'quit', or Ctrl-D.\n",
      "  warn(\"To exit: use 'exit', 'quit', or Ctrl-D.\", stacklevel=1)\n"
     ]
    }
   ],
   "source": [
    "from Cradar import Cradar\n",
    "from lib.pick_gui import PickGUI\n",
    "import sys\n",
    "from PyQt5.QtWidgets import QApplication\n",
    "\n",
    "nc_file = \"C:\\\\Users\\\\Steven\\\\Seafile\\\\Orca\\\\AWI_Radar\\\\Radar_data\\\\UWB\\\\2019_Antarctica_Polar6_rds_standard\\\\20181226_01\\\\Data_20181226_01_011_standard.nc\"\n",
    "\n",
    "\n",
    "if __name__ == \"__main__\":\n",
    "    app = QApplication(sys.argv)\n",
    "    crd = Cradar().load_awi_nc(nc_file, frame=\"20181226_01_011\", read_agc=False)\n",
    "    crd.get_layer_idx()\n",
    "    gui = PickGUI(crd)\n",
    "    gui.show()\n",
    "    sys.exit(app.exec_())\n"
   ]
  },
  {
   "cell_type": "code",
   "execution_count": null,
   "metadata": {},
   "outputs": [],
   "source": []
  }
 ],
 "metadata": {
  "kernelspec": {
   "display_name": "geo",
   "language": "python",
   "name": "python3"
  },
  "language_info": {
   "codemirror_mode": {
    "name": "ipython",
    "version": 3
   },
   "file_extension": ".py",
   "mimetype": "text/x-python",
   "name": "python",
   "nbconvert_exporter": "python",
   "pygments_lexer": "ipython3",
   "version": "3.10.4"
  }
 },
 "nbformat": 4,
 "nbformat_minor": 2
}
